{
  "cells": [
    {
      "cell_type": "code",
      "source": [
        "import webdnn"
      ],
      "outputs": [],
      "execution_count": 4,
      "metadata": {
        "collapsed": true
      }
    },
    {
      "cell_type": "code",
      "source": [
        "\"\"\"\n",
        "Keras model converter\n",
        "\"\"\"\n",
        "\n",
        "import argparse\n",
        "import importlib.util\n",
        "import inspect\n",
        "import os\n",
        "import sys\n",
        "sys.setrecursionlimit(10000)  # workaround for deep copying large graph\n",
        "import traceback\n",
        "from os import path\n",
        "\n",
        "import keras\n",
        "\n",
        "from webdnn.backend import generate_descriptor\n",
        "from webdnn.frontend.keras import KerasConverter\n",
        "from webdnn.graph import traverse\n",
        "from webdnn.graph.placeholder import Placeholder\n",
        "from webdnn.graph.shape import Shape\n",
        "from webdnn.graph.traverse import dump_dot\n",
        "from webdnn.util import flags, console"
      ],
      "outputs": [],
      "execution_count": 3,
      "metadata": {}
    },
    {
      "cell_type": "code",
      "source": [
        "input_shapes = [Shape.parse('(1, 512, 512, 3)')[0]]\n",
        "model_path = 'full_boneage_model.h5'\n",
        "model = keras.models.load_model(model_path, \n",
        "                                custom_objects=[], compile=False)"
      ],
      "outputs": [],
      "execution_count": 8,
      "metadata": {}
    },
    {
      "cell_type": "code",
      "source": [
        "model.build(input_shape=None)\n",
        "converter = KerasConverter(batch_size=input_shapes[0][0])\n",
        "graph = converter.convert(model)\n",
        "traverse.dump(graph)"
      ],
      "outputs": [
        {
          "output_type": "stream",
          "name": "stderr",
          "text": [
            "/Users/mader/anaconda/envs/py36/lib/python3.6/site-packages/webdnn/util/console.py:30: Warning: [KerasConverter] keras.layers.AveragePooling computes average by dividing number of valid elements in window (without padding element), but WebDNN divides it by the number of elements including padding element, so different result will be generated on the edge.\n",
            "  warnings.warn(message, category)\n",
            "/Users/mader/anaconda/envs/py36/lib/python3.6/site-packages/webdnn/util/console.py:30: Warning: [KerasConverter] omitting dropout\n",
            "  warnings.warn(message, category)\n"
          ]
        }
      ],
      "execution_count": 9,
      "metadata": {}
    },
    {
      "cell_type": "code",
      "source": [
        "for graph_input, input_shape in zip(graph.inputs, input_shapes):\n",
        "    for p1, p2 in zip(graph_input.shape, input_shape):\n",
        "        if not Placeholder.check_resolved(p1) and Placeholder.check_resolved(p2):\n",
        "            p1.value = Placeholder.force_int(p2)\n",
        "\n",
        "        elif Placeholder.check_resolved(p1) and not Placeholder.check_resolved(p2):\n",
        "            raise ValueError(f'Shape mismatch: expected:{input_shape}, real:{graph_input.shape}, {p1} != {p2}')\n",
        "\n",
        "        elif Placeholder.check_resolved(p1) and Placeholder.check_resolved(p2):\n",
        "            assert p1 == p2, f'Shape mismatch: expected:{input_shape}, real:{graph_input.shape}, {p1} != {p2}'\n",
        "\n",
        "output_dir = path.join(path.dirname(model_path), \"webdnn_graph_descriptor\")\n",
        "os.makedirs(output_dir, exist_ok=True)\n",
        "\n",
        "ir_dot_path = path.join(output_dir, \"ir.dot\")\n",
        "with open(ir_dot_path, \"w\") as f:\n",
        "    f.write(dump_dot(graph))\n",
        "console.stderr(f\"IR graph can be visualized with graphviz command: 'dot {ir_dot_path} -T png -o output.png'\")\n",
        "\nconsole.stderr(f\" Generating graph descriptor\")"
      ],
      "outputs": [
        {
          "output_type": "stream",
          "name": "stderr",
          "text": [
            "IR graph can be visualized with graphviz command: 'dot webdnn_graph_descriptor/ir.dot -T png -o output.png'\n",
            " Generating graph descriptor\n"
          ]
        }
      ],
      "execution_count": 11,
      "metadata": {}
    },
    {
      "cell_type": "code",
      "source": [
        "!dot {ir_dot_path} -T png -o output.png"
      ],
      "outputs": [],
      "execution_count": null,
      "metadata": {
        "collapsed": true
      }
    },
    {
      "cell_type": "code",
      "source": [
        "any_backend_failed = False\n",
        "backends = 'webgpu,webgl,webassembly,fallback'.split(',')\n",
        "for i, backend in enumerate(backends):\n",
        "    console.stderr(f\"BackendName: {console.colorize(backend, console.Color.Cyan)}\")\n",
        "    try:\n",
        "        graph_exec_data = generate_descriptor(backend, graph, constant_encoder_name=None)\n",
        "        graph_exec_data.save(output_dir)\n",
        "    except Exception as ex:\n",
        "        if flags.DEBUG:\n",
        "            raise ex\n",
        "\n",
        "        any_backend_failed = True\n",
        "        console.error(f\"Failed generating descriptor for {backend} backend\")\n",
        "        console.stderr(traceback.format_exc())\n",
        "        continue\n",
        "\n",
        "if any_backend_failed:\n",
        "    raise ValueError('BackendFailed')\n",
        "    # raise last_backend_exception"
      ],
      "outputs": [
        {
          "output_type": "stream",
          "name": "stderr",
          "text": [
            "BackendName: \u001b[0;36mwebgpu\u001b[0;39m\n",
            "\u001b[0;31m[WebGPUDescriptorGenerator] Generated kernel source is invalid.\u001b[0;39m\n",
            "xcrun: error: unable to find utility \"metal\", not a developer tool or in PATH\n",
            "\n",
            "\u001b[0;31mFailed generating descriptor for webgpu backend\u001b[0;39m\n",
            "Traceback (most recent call last):\n",
            "  File \"<ipython-input-14-b76e15d01944>\", line 6, in <module>\n",
            "    graph_exec_data = generate_descriptor(backend, graph, constant_encoder_name=None)\n",
            "  File \"/Users/mader/anaconda/envs/py36/lib/python3.6/site-packages/webdnn/backend/interface/generator.py\", line 107, in generate_descriptor\n",
            "    return generator(graph, **kwargs)\n",
            "  File \"/Users/mader/anaconda/envs/py36/lib/python3.6/site-packages/webdnn/backend/webgpu/generator.py\", line 120, in generate\n",
            "    return WebGPUDescriptorGenerator.generate(graph, **kwargs)\n",
            "  File \"/Users/mader/anaconda/envs/py36/lib/python3.6/site-packages/webdnn/backend/webgpu/generator.py\", line 114, in generate\n",
            "    validate_kernel_source(descriptor)\n",
            "  File \"/Users/mader/anaconda/envs/py36/lib/python3.6/site-packages/webdnn/backend/webgpu/generator.py\", line 76, in validate_kernel_source\n",
            "    exit(result.returncode)\n",
            "NameError: name 'exit' is not defined\n",
            "\n",
            "BackendName: \u001b[0;36mwebgl\u001b[0;39m\n",
            "\u001b[0;31mFailed generating descriptor for webgl backend\u001b[0;39m\n",
            "Traceback (most recent call last):\n",
            "  File \"<ipython-input-14-b76e15d01944>\", line 6, in <module>\n",
            "    graph_exec_data = generate_descriptor(backend, graph, constant_encoder_name=None)\n",
            "  File \"/Users/mader/anaconda/envs/py36/lib/python3.6/site-packages/webdnn/backend/interface/generator.py\", line 107, in generate_descriptor\n",
            "    return generator(graph, **kwargs)\n",
            "  File \"/Users/mader/anaconda/envs/py36/lib/python3.6/site-packages/webdnn/backend/webgl/generator.py\", line 92, in generate\n",
            "    return WebGLDescriptorGenerator.generate(graph, **kwargs)\n",
            "  File \"/Users/mader/anaconda/envs/py36/lib/python3.6/site-packages/webdnn/backend/webgl/generator.py\", line 45, in generate\n",
            "    graph, _ = WebGLOptimizeRule().optimize(copy.deepcopy(original_graph))\n",
            "  File \"/Users/mader/anaconda/envs/py36/lib/python3.6/site-packages/webdnn/graph/optimize_rule.py\", line 110, in optimize\n",
            "    graph, flag_changed = sub_rule.optimize(graph)\n",
            "  File \"/Users/mader/anaconda/envs/py36/lib/python3.6/site-packages/webdnn/graph/optimize_rule.py\", line 110, in optimize\n",
            "    graph, flag_changed = sub_rule.optimize(graph)\n",
            "  File \"/Users/mader/anaconda/envs/py36/lib/python3.6/site-packages/webdnn/graph/optimize_rule.py\", line 110, in optimize\n",
            "    graph, flag_changed = sub_rule.optimize(graph)\n",
            "  File \"/Users/mader/anaconda/envs/py36/lib/python3.6/site-packages/webdnn/backend/webgl/optimize_rules/split_texture/split_variable.py\", line 41, in optimize\n",
            "    axis = _choose_split_axis(v)\n",
            "  File \"/Users/mader/anaconda/envs/py36/lib/python3.6/site-packages/webdnn/backend/webgl/optimize_rules/split_texture/split_variable.py\", line 1024, in _choose_split_axis\n",
            "    raise ValueError(\"No axis is splittable\")\n",
            "ValueError: No axis is splittable\n",
            "\n",
            "BackendName: \u001b[0;36mwebassembly\u001b[0;39m\n",
            "Executing em++ command failed. Make sure emscripten is properly installed and environment variables are set.\n",
            "\u001b[0;31mFailed generating descriptor for webassembly backend\u001b[0;39m\n",
            "Traceback (most recent call last):\n",
            "  File \"<ipython-input-14-b76e15d01944>\", line 7, in <module>\n",
            "    graph_exec_data.save(output_dir)\n",
            "  File \"/Users/mader/anaconda/envs/py36/lib/python3.6/site-packages/webdnn/backend/webassembly/generator.py\", line 50, in save\n",
            "    self._compile_fallback_asmjs(dirname)\n",
            "  File \"/Users/mader/anaconda/envs/py36/lib/python3.6/site-packages/webdnn/backend/webassembly/generator.py\", line 99, in _compile_fallback_asmjs\n",
            "    raise ex\n",
            "  File \"/Users/mader/anaconda/envs/py36/lib/python3.6/site-packages/webdnn/backend/webassembly/generator.py\", line 95, in _compile_fallback_asmjs\n",
            "    subprocess.check_call(args, shell=self.platform_windows)\n",
            "  File \"/Users/mader/anaconda/envs/py36/lib/python3.6/subprocess.py\", line 291, in check_call\n",
            "    raise CalledProcessError(retcode, cmd)\n",
            "subprocess.CalledProcessError: Command '['em++', 'webdnn_graph_descriptor/kernels_webassembly.cpp', '-O3', '-std=c++11', '-s', \"EXPORTED_FUNCTIONS=['_run','_init','_get_static_buffer','_allocate_dynamic_buffer','_get_dynamic_buffer','_set_placeholder_value']\", '-s', 'TOTAL_MEMORY=2130706432', '--pre-js', '/Users/mader/anaconda/envs/py36/lib/python3.6/site-packages/webdnn/backend/webassembly/webassembly_header.js', '-o', 'webdnn_graph_descriptor/kernels_asmjs.js']' returned non-zero exit status 1.\n",
            "\n",
            "BackendName: \u001b[0;36mfallback\u001b[0;39m\n"
          ]
        },
        {
          "output_type": "error",
          "ename": "ValueError",
          "evalue": "BackendFailed",
          "traceback": [
            "\u001b[0;31m---------------------------------------------------------------------------\u001b[0m",
            "\u001b[0;31mValueError\u001b[0m                                Traceback (most recent call last)",
            "\u001b[0;32m<ipython-input-14-b76e15d01944>\u001b[0m in \u001b[0;36m<module>\u001b[0;34m()\u001b[0m\n\u001b[1;32m     16\u001b[0m \u001b[0;34m\u001b[0m\u001b[0m\n\u001b[1;32m     17\u001b[0m \u001b[0;32mif\u001b[0m \u001b[0many_backend_failed\u001b[0m\u001b[0;34m:\u001b[0m\u001b[0;34m\u001b[0m\u001b[0m\n\u001b[0;32m---> 18\u001b[0;31m     \u001b[0;32mraise\u001b[0m \u001b[0mValueError\u001b[0m\u001b[0;34m(\u001b[0m\u001b[0;34m'BackendFailed'\u001b[0m\u001b[0;34m)\u001b[0m\u001b[0;34m\u001b[0m\u001b[0m\n\u001b[0m\u001b[1;32m     19\u001b[0m     \u001b[0;31m# raise last_backend_exception\u001b[0m\u001b[0;34m\u001b[0m\u001b[0;34m\u001b[0m\u001b[0m\n",
            "\u001b[0;31mValueError\u001b[0m: BackendFailed"
          ]
        }
      ],
      "execution_count": 14,
      "metadata": {}
    },
    {
      "cell_type": "code",
      "source": [],
      "outputs": [],
      "execution_count": null,
      "metadata": {
        "collapsed": true
      }
    }
  ],
  "metadata": {
    "kernelspec": {
      "display_name": "Python [conda env:py36]",
      "language": "python",
      "name": "conda-env-py36-py"
    },
    "language_info": {
      "codemirror_mode": {
        "name": "ipython",
        "version": 3
      },
      "file_extension": ".py",
      "mimetype": "text/x-python",
      "name": "python",
      "nbconvert_exporter": "python",
      "pygments_lexer": "ipython3",
      "version": "3.6.1"
    },
    "nteract": {
      "version": "0.7.0"
    }
  },
  "nbformat": 4,
  "nbformat_minor": 2
}