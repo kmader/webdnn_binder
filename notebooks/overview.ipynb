{
 "cells": [
  {
   "cell_type": "markdown",
   "metadata": {
    "collapsed": true
   },
   "source": [
    "# Overview\n",
    "The notebook packages up a pretrained ResNet50 model and exports it as javascript, based loosely on the "
   ]
  },
  {
   "cell_type": "code",
   "execution_count": null,
   "metadata": {},
   "outputs": [],
   "source": [
    "import argparse\n",
    "import importlib.util\n",
    "import inspect\n",
    "import os\n",
    "import sys\n",
    "sys.setrecursionlimit(10000)  # workaround for deep copying large graph\n",
    "import traceback\n",
    "from os import path\n",
    "\n",
    "import keras\n",
    "\n",
    "from webdnn.backend import generate_descriptor\n",
    "from webdnn.frontend.keras import KerasConverter\n",
    "from webdnn.graph import traverse\n",
    "from webdnn.graph.placeholder import Placeholder\n",
    "from webdnn.graph.shape import Shape\n",
    "from webdnn.graph.traverse import dump_dot\n",
    "from webdnn.util import flags, console"
   ]
  },
  {
   "cell_type": "code",
   "execution_count": null,
   "metadata": {},
   "outputs": [],
   "source": [
    "from keras.applications import ResNet50\n",
    "pretrained_model = ResNet50(weights = 'imagenet', include_top = True)\n",
    "pretrained_model.save('resnet50.h5')"
   ]
  },
  {
   "cell_type": "code",
   "execution_count": null,
   "metadata": {},
   "outputs": [],
   "source": [
    "input_shapes = [Shape.parse('(1, 299, 299, 3)')[0]]\n",
    "model_path = 'resnet50.h5'\n",
    "model = keras.models.load_model(model_path, \n",
    "                                custom_objects=[], compile=False)"
   ]
  },
  {
   "cell_type": "code",
   "execution_count": null,
   "metadata": {},
   "outputs": [],
   "source": [
    "model.build(input_shape=None)\n",
    "converter = KerasConverter(batch_size=input_shapes[0][0])\n",
    "graph = converter.convert(model)\n",
    "traverse.dump(graph)"
   ]
  },
  {
   "cell_type": "code",
   "execution_count": null,
   "metadata": {},
   "outputs": [],
   "source": [
    "for graph_input, input_shape in zip(graph.inputs, input_shapes):\n",
    "    for p1, p2 in zip(graph_input.shape, input_shape):\n",
    "        if not Placeholder.check_resolved(p1) and Placeholder.check_resolved(p2):\n",
    "            p1.value = Placeholder.force_int(p2)\n",
    "\n",
    "        elif Placeholder.check_resolved(p1) and not Placeholder.check_resolved(p2):\n",
    "            raise ValueError(f'Shape mismatch: expected:{input_shape}, real:{graph_input.shape}, {p1} != {p2}')\n",
    "\n",
    "        elif Placeholder.check_resolved(p1) and Placeholder.check_resolved(p2):\n",
    "            assert p1 == p2, f'Shape mismatch: expected:{input_shape}, real:{graph_input.shape}, {p1} != {p2}'\n",
    "\n",
    "output_dir = path.join(path.dirname(model_path), \"webdnn_graph_descriptor\")\n",
    "os.makedirs(output_dir, exist_ok=True)\n",
    "\n",
    "ir_dot_path = path.join(output_dir, \"ir.dot\")\n",
    "with open(ir_dot_path, \"w\") as f:\n",
    "    f.write(dump_dot(graph))\n",
    "console.stderr(f\"IR graph can be visualized with graphviz command: 'dot {ir_dot_path} -T png -o output.png'\")\n",
    "\n",
    "console.stderr(f\" Generating graph descriptor\")"
   ]
  },
  {
   "cell_type": "code",
   "execution_count": null,
   "metadata": {},
   "outputs": [],
   "source": [
    "!dot {ir_dot_path} -T png -o output.png"
   ]
  },
  {
   "cell_type": "code",
   "execution_count": null,
   "metadata": {},
   "outputs": [],
   "source": [
    "any_backend_failed = False\n",
    "backends = 'webgpu,webgl,webassembly,fallback'.split(',')\n",
    "for i, backend in enumerate(backends):\n",
    "    console.stderr(f\"BackendName: {console.colorize(backend, console.Color.Cyan)}\")\n",
    "    try:\n",
    "        graph_exec_data = generate_descriptor(backend, graph, constant_encoder_name=None)\n",
    "        graph_exec_data.save(output_dir)\n",
    "    except Exception as ex:\n",
    "        if flags.DEBUG:\n",
    "            raise ex\n",
    "\n",
    "        any_backend_failed = True\n",
    "        console.error(f\"Failed generating descriptor for {backend} backend\")\n",
    "        console.stderr(traceback.format_exc())\n",
    "        continue\n",
    "\n",
    "if any_backend_failed:\n",
    "    raise ValueError('BackendFailed')\n",
    "    # raise last_backend_exception"
   ]
  },
  {
   "cell_type": "code",
   "execution_count": null,
   "metadata": {},
   "outputs": [],
   "source": []
  }
 ],
 "metadata": {
  "kernelspec": {
   "display_name": "Python 3",
   "language": "python",
   "name": "python3"
  },
  "language_info": {
   "codemirror_mode": {
    "name": "ipython",
    "version": 3
   },
   "file_extension": ".py",
   "mimetype": "text/x-python",
   "name": "python",
   "nbconvert_exporter": "python",
   "pygments_lexer": "ipython3",
   "version": "3.6.1"
  },
  "nteract": {
   "version": "0.7.0"
  }
 },
 "nbformat": 4,
 "nbformat_minor": 2
}
